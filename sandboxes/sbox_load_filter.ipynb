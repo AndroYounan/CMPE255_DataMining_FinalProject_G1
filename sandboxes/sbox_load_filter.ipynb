{
 "cells": [
  {
   "cell_type": "code",
   "execution_count": null,
   "id": "c610aa72-fedb-4288-b71a-bf28338bd470",
   "metadata": {},
   "outputs": [],
   "source": [
    "import json\n",
    "import pandas as pd\n",
    "import numpy as np\n",
    "\n",
    "PATH_BUSINESS = \"./yelp_academic_dataset_business.json\"\n",
    "PATH_CHECKIN = \"./yelp_academic_dataset_checkin.json\"\n",
    "PATH_REVIEW = \"./yelp_academic_dataset_review.json\"\n",
    "PATH_TIP = \"./yelp_academic_dataset_tip.json\"\n",
    "PATH_USER = \"./yelp_academic_dataset_user.json\""
   ]
  },
  {
   "cell_type": "code",
   "execution_count": null,
   "id": "7eb296f6-14e4-4578-bbde-5c53a920b3d5",
   "metadata": {},
   "outputs": [],
   "source": [
    "def load_part(path, n_lines=100000, func=lambda item, args: True, args=None):\n",
    "    print(\"Now loading\", path)\n",
    "    data = []\n",
    "    with open(path, \"rb\") as f:\n",
    "        for i, line in enumerate(f):\n",
    "            # https://stackoverflow.com/a/26128151\n",
    "            byte_to_str = line.decode('utf8')\n",
    "            item = json.loads(byte_to_str)\n",
    "            if func(item, args):\n",
    "                data.append(item)\n",
    "\n",
    "            if i % (n_lines // 5) == 0:\n",
    "                print(f\"Processed {int(i / n_lines * 100)}% ({i}/{n_lines}), {len(data)} entries so far\")\n",
    "            if i == n_lines:\n",
    "                break\n",
    "    print(f\"Loaded {len(data)} entries\")\n",
    "    return data"
   ]
  },
  {
   "cell_type": "code",
   "execution_count": null,
   "id": "4b6e6905-8355-43dc-8b4d-a79df51e9f83",
   "metadata": {},
   "outputs": [],
   "source": [
    "def coord_distance(coord_a, coord_b):\n",
    "    # haversine formula\n",
    "    lat_a, lon_a = np.deg2rad(coord_a)\n",
    "    lat_b, lon_b = np.deg2rad(coord_b)\n",
    "    d_lon = lon_b - lon_a\n",
    "    d_lat = lat_b - lat_a\n",
    "    a = np.sin(d_lat / 2)**2 + np.cos(lat_a)*np.cos(lat_b)*np.sin(d_lon/2)**2\n",
    "    c = 2 * np.arcsin(np.sqrt(a))\n",
    "    r = 3956  # miles\n",
    "    return c * r"
   ]
  },
  {
   "cell_type": "code",
   "execution_count": null,
   "id": "6478044c-ed8d-411f-9498-20e49dab413b",
   "metadata": {},
   "outputs": [],
   "source": [
    "def fn_distance(item, args):\n",
    "    center, radius = args\n",
    "    point = (item[\"latitude\"], item[\"longitude\"])\n",
    "    distance = coord_distance(center, point)\n",
    "    return distance < radius\n",
    "\n",
    "def fn_eq(item, args):\n",
    "    field, target = args\n",
    "    return item[field] == target\n",
    "\n",
    "def fn_lt(item, args):\n",
    "    field, target = args\n",
    "    return item[field] < target\n",
    "\n",
    "def fn_gt(item, args):\n",
    "    field, target = args\n",
    "    return item[field] > target\n",
    "\n",
    "def fn_has(item, args):\n",
    "    field, substring = args\n",
    "    return substring.lower() in item[field].lower()"
   ]
  },
  {
   "cell_type": "code",
   "execution_count": null,
   "id": "4420ab77-cc86-4f79-966f-37d01e79580e",
   "metadata": {},
   "outputs": [],
   "source": [
    "COORD_TAMPA = (27.9517, -82.4588)\n",
    "COORD_PHILADELPHIA = (39.9526, -75.1652)\n",
    "\n",
    "# data = load_part(PATH_REVIEW, n_lines=100)\n",
    "# data = load_part(PATH_BUSINESS, n_lines=151000, func=fn_distance, args=(COORD_PHILADELPHIA, 2))\n",
    "# data = load_part(PATH_BUSINESS, n_lines=151000, func=fn_eq, args=(\"state\", \"CA\"))\n",
    "# data = load_part(PATH_BUSINESS, n_lines=151000, func=fn_has, args=(\"name\", \"fish\"))\n",
    "# data = load_part(PATH_REVIEW, func=fn_gt, args=(\"date\", \"2018-10\"))\n",
    "data = load_part(PATH_REVIEW, func=fn_lt, args=(\"date\", \"2005-12\"))"
   ]
  },
  {
   "cell_type": "code",
   "execution_count": null,
   "id": "9944e729-4b5d-4903-8ec4-efa109158065",
   "metadata": {},
   "outputs": [],
   "source": [
    "df = pd.DataFrame(data)\n",
    "df"
   ]
  }
 ],
 "metadata": {
  "kernelspec": {
   "display_name": "Python 3 (ipykernel)",
   "language": "python",
   "name": "python3"
  },
  "language_info": {
   "codemirror_mode": {
    "name": "ipython",
    "version": 3
   },
   "file_extension": ".py",
   "mimetype": "text/x-python",
   "name": "python",
   "nbconvert_exporter": "python",
   "pygments_lexer": "ipython3",
   "version": "3.11.5"
  }
 },
 "nbformat": 4,
 "nbformat_minor": 5
}
