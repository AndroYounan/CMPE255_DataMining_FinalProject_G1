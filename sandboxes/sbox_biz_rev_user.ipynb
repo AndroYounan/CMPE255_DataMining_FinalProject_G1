{
 "cells": [
  {
   "cell_type": "code",
   "execution_count": 1,
   "id": "c610aa72-fedb-4288-b71a-bf28338bd470",
   "metadata": {},
   "outputs": [],
   "source": [
    "import json\n",
    "import numpy as np\n",
    "import pandas as pd\n",
    "\n",
    "PATH_BUSINESS = \"../yelp_dataset/yelp_academic_dataset_business.json\"  # 150,345 lines\n",
    "PATH_CHECKIN = \"../yelp_dataset/yelp_academic_dataset_checkin.json\"    # 131,929 lines\n",
    "PATH_REVIEW = \"../yelp_dataset/yelp_academic_dataset_review.json\"      # 6,990,279 lines\n",
    "PATH_TIP = \"../yelp_dataset/yelp_academic_dataset_tip.json\"            # 908,914 lines\n",
    "PATH_USER = \"../yelp_dataset/yelp_academic_dataset_user.json\"          # 1,987,896 lines"
   ]
  },
  {
   "cell_type": "code",
   "execution_count": 2,
   "id": "7eb296f6-14e4-4578-bbde-5c53a920b3d5",
   "metadata": {},
   "outputs": [],
   "source": [
    "def load_part(path, n_lines=-1, verbose=False, func=lambda item, args: True, args=None):\n",
    "    \"\"\"\n",
    "    Walks through a JSON file and returns lines matching a function. This\n",
    "    is an optimization over other json-parsing APIs, because this saves\n",
    "    memory by preemptively filtering out non-matching lines.\n",
    "    \n",
    "    @param n_lines: Lines of the file to walk through. Default is -1 for all.\n",
    "    @param verbose: Whether to print feedback. Default is False. If n_lines\n",
    "        is -1, then the progress bar shows a '*' for every 100,000 lines read.\n",
    "        Otherwise, the progress bar shows a '=' for every 5% of lines read.\n",
    "    @param func: Lambda function for matching lines. Default is to match all.\n",
    "    @param args: Arguments to the lambda function.\n",
    "    @return: List of JSON objects.\n",
    "    \"\"\"\n",
    "    data = []\n",
    "    n_unprocessable = 0\n",
    "    if verbose:\n",
    "        print(\"Now loading\", path)\n",
    "        print(\"[\", end='')\n",
    "    with open(path, \"rb\") as f:\n",
    "        # https://stackoverflow.com/a/26128151\n",
    "        for i, line in enumerate(f):\n",
    "            if i == n_lines:\n",
    "                break\n",
    "            byte_to_str = line.decode('utf8')\n",
    "            item = json.loads(byte_to_str)\n",
    "            try:\n",
    "                if func(item, args):\n",
    "                    data.append(item)\n",
    "            except:\n",
    "                n_unprocessable += 1\n",
    "\n",
    "            if verbose:\n",
    "                if n_lines == -1:\n",
    "                    if i % 100000 == 0:\n",
    "                        print(\"*\", end='')\n",
    "                else:\n",
    "                    m = max(n_lines // 20, 1)  # to prevent mod by 0\n",
    "                    if i % m == 0:\n",
    "                        print(\"=\", end='')\n",
    "    if verbose:\n",
    "        print(f\"] Loaded {len(data)}/{i} entries ({n_unprocessable} unprocessable)\")\n",
    "    return data"
   ]
  },
  {
   "cell_type": "code",
   "execution_count": 3,
   "id": "4b6e6905-8355-43dc-8b4d-a79df51e9f83",
   "metadata": {},
   "outputs": [],
   "source": [
    "def coord_distance(coord_a, coord_b):\n",
    "    \"\"\"\n",
    "    Calculates the distance between two points using the haversine formula.\n",
    "\n",
    "    @param: Tuple of longitude, latitude as floats.\n",
    "    @return: Distance, in miles.\n",
    "    \"\"\"\n",
    "    lat_a, lon_a = np.deg2rad(coord_a)\n",
    "    lat_b, lon_b = np.deg2rad(coord_b)\n",
    "    d_lon = lon_b - lon_a\n",
    "    d_lat = lat_b - lat_a\n",
    "    a = np.sin(d_lat / 2)**2 + np.cos(lat_a)*np.cos(lat_b)*np.sin(d_lon/2)**2\n",
    "    c = 2 * np.arcsin(np.sqrt(a))\n",
    "    r = 3956  # miles\n",
    "    return c * r"
   ]
  },
  {
   "cell_type": "code",
   "execution_count": 4,
   "id": "6478044c-ed8d-411f-9498-20e49dab413b",
   "metadata": {},
   "outputs": [],
   "source": [
    "\"\"\"\n",
    "Variety of matching functions.\n",
    "\n",
    "@param item: The JSON object to match against.\n",
    "@param args: Varies.\n",
    "@return: Whether there was a match.\n",
    "\"\"\"\n",
    "\n",
    "def fn_distance(item, args):\n",
    "    center, radius = args\n",
    "    point = (item[\"latitude\"], item[\"longitude\"])\n",
    "    distance = coord_distance(center, point)\n",
    "    return distance < radius\n",
    "\n",
    "def fn_eq(item, args):\n",
    "    field, target = args\n",
    "    return item[field] == target\n",
    "\n",
    "def fn_lt(item, args):\n",
    "    field, target = args\n",
    "    return item[field] < target\n",
    "\n",
    "def fn_gt(item, args):\n",
    "    field, target = args\n",
    "    return item[field] > target\n",
    "\n",
    "def fn_substring(item, args):\n",
    "    field, substring = args\n",
    "    return substring.lower() in item[field].lower()\n",
    "\n",
    "def fn_in(item, args):\n",
    "    field, collection = args\n",
    "    return item[field] in collection\n",
    "\n",
    "def fn_none(item, args):\n",
    "    return False\n",
    "\n",
    "def fn_any(item, args):\n",
    "    for fn, *arg in args:\n",
    "        if fn(item, arg):\n",
    "            return True\n",
    "    return False\n",
    "\n",
    "def fn_all(item, args):\n",
    "    for fn, *arg in args:\n",
    "        if not fn(item, arg):\n",
    "            return False\n",
    "    return True"
   ]
  },
  {
   "cell_type": "code",
   "execution_count": 5,
   "id": "4420ab77-cc86-4f79-966f-37d01e79580e",
   "metadata": {},
   "outputs": [
    {
     "name": "stdout",
     "output_type": "stream",
     "text": [
      "Now loading ../yelp_dataset/yelp_academic_dataset_business.json\n",
      "[**] Loaded 258/150345 entries (0 unprocessable)\n"
     ]
    }
   ],
   "source": [
    "data_business = load_part(PATH_BUSINESS,\n",
    "                          verbose=True,\n",
    "                          func=fn_all,\n",
    "                          args=[(fn_gt, \"stars\", 3.9),\n",
    "                                (fn_eq, \"is_open\", 1),\n",
    "                                (fn_gt, \"review_count\", 1000)])"
   ]
  },
  {
   "cell_type": "code",
   "execution_count": 6,
   "id": "8dbbad5d-3d0e-40cc-8757-deed1a8c5d79",
   "metadata": {},
   "outputs": [],
   "source": [
    "biz_ids = set()\n",
    "for item in data_business:\n",
    "    biz_ids.add(item[\"business_id\"])"
   ]
  },
  {
   "cell_type": "code",
   "execution_count": 7,
   "id": "9944e729-4b5d-4903-8ec4-efa109158065",
   "metadata": {},
   "outputs": [
    {
     "name": "stdout",
     "output_type": "stream",
     "text": [
      "Now loading ../yelp_dataset/yelp_academic_dataset_review.json\n",
      "[====================] Loaded 8706/100000 entries (0 unprocessable)\n"
     ]
    }
   ],
   "source": [
    "data_review = load_part(PATH_REVIEW, n_lines=100000, verbose=True,\n",
    "                        func=fn_in, args=(\"business_id\", biz_ids))"
   ]
  },
  {
   "cell_type": "code",
   "execution_count": 8,
   "id": "186160b6-662b-4a8c-9c4b-56b44b36ae26",
   "metadata": {},
   "outputs": [],
   "source": [
    "user_ids = set()\n",
    "for item in data_review:\n",
    "    user_ids.add(item[\"user_id\"])"
   ]
  },
  {
   "cell_type": "code",
   "execution_count": 9,
   "id": "260bfe14-f995-49d5-8ea8-113ee52f1a58",
   "metadata": {},
   "outputs": [
    {
     "name": "stdout",
     "output_type": "stream",
     "text": [
      "Now loading ../yelp_dataset/yelp_academic_dataset_user.json\n",
      "[====================] Loaded 5140/100000 entries (0 unprocessable)\n"
     ]
    }
   ],
   "source": [
    "data_user = load_part(PATH_USER, n_lines=100000, verbose=True,\n",
    "                      func=fn_in, args=(\"user_id\", user_ids))"
   ]
  }
 ],
 "metadata": {
  "kernelspec": {
   "display_name": "Python 3 (ipykernel)",
   "language": "python",
   "name": "python3"
  },
  "language_info": {
   "codemirror_mode": {
    "name": "ipython",
    "version": 3
   },
   "file_extension": ".py",
   "mimetype": "text/x-python",
   "name": "python",
   "nbconvert_exporter": "python",
   "pygments_lexer": "ipython3",
   "version": "3.11.5"
  }
 },
 "nbformat": 4,
 "nbformat_minor": 5
}
