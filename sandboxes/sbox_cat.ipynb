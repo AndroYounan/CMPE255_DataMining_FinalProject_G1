{
 "cells": [
  {
   "cell_type": "code",
   "execution_count": null,
   "id": "aa5167da-5422-43b5-97a4-720446a8b66a",
   "metadata": {},
   "outputs": [],
   "source": [
    "import json\n",
    "from collections import defaultdict"
   ]
  },
  {
   "cell_type": "code",
   "execution_count": null,
   "id": "6d83edb8-ee7b-4152-baef-01604b12e832",
   "metadata": {},
   "outputs": [],
   "source": [
    "PATH_BUSINESS = \"./yelp_academic_dataset_business.json\"\n",
    "\n",
    "data = []\n",
    "with open(PATH_BUSINESS, \"rb\") as f:\n",
    "    for line in f:\n",
    "        # https://stackoverflow.com/a/26128151\n",
    "        byte_to_str = line.decode('utf8')\n",
    "        item = json.loads(byte_to_str)\n",
    "        data.append(item)\n",
    "        # if len(data) == 5000:\n",
    "        #     break"
   ]
  },
  {
   "cell_type": "code",
   "execution_count": null,
   "id": "9e70cd20-1c80-42fd-b5ae-12859620e924",
   "metadata": {},
   "outputs": [],
   "source": [
    "def print_cat(data, other_threshold):\n",
    "    cat = defaultdict(int)\n",
    "    for item in data:\n",
    "        if item['categories'] is None:\n",
    "            # print(\"skipping\", item)\n",
    "            continue\n",
    "        for c in item['categories'].split(', '):\n",
    "            cat[c] += 1\n",
    "            \n",
    "    n_other = 0\n",
    "    for k, v in cat.items():\n",
    "        if v <= other_threshold:\n",
    "            n_other += 1\n",
    "            continue\n",
    "        print(f\"{k}: {v}\")\n",
    "    print(f\"OTHER: {n_other}\")\n",
    "\n",
    "print_cat(data, 1000)"
   ]
  }
 ],
 "metadata": {
  "kernelspec": {
   "display_name": "Python 3 (ipykernel)",
   "language": "python",
   "name": "python3"
  },
  "language_info": {
   "codemirror_mode": {
    "name": "ipython",
    "version": 3
   },
   "file_extension": ".py",
   "mimetype": "text/x-python",
   "name": "python",
   "nbconvert_exporter": "python",
   "pygments_lexer": "ipython3",
   "version": "3.11.5"
  }
 },
 "nbformat": 4,
 "nbformat_minor": 5
}
