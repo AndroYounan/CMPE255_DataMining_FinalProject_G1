{
 "cells": [
  {
   "cell_type": "code",
   "execution_count": null,
   "id": "3d75f37e-10b1-4461-abb5-4a54d5c6609f",
   "metadata": {},
   "outputs": [],
   "source": [
    "import pandas as pd\n",
    "import plotly.express as px\n",
    "\n",
    "PATH_BUSINESS = \"../yelp_dataset/yelp_academic_dataset_business.json\""
   ]
  },
  {
   "cell_type": "code",
   "execution_count": null,
   "id": "3faa9ab3-6f28-41c4-b46c-b331438d3f38",
   "metadata": {},
   "outputs": [],
   "source": [
    "df = pd.read_json(PATH_BUSINESS, lines=True)"
   ]
  },
  {
   "cell_type": "code",
   "execution_count": null,
   "id": "841974fc-907e-45ec-8d0b-1456d57b7d61",
   "metadata": {},
   "outputs": [],
   "source": [
    "fig = px.density_mapbox(df, lat=\"latitude\", lon=\"longitude\",\n",
    "                        center=dict(lat=42, lon=-100),\n",
    "                        zoom=1,\n",
    "                        radius=8,\n",
    "                        mapbox_style='open-street-map')\n",
    "fig.show()"
   ]
  }
 ],
 "metadata": {
  "kernelspec": {
   "display_name": "Python 3 (ipykernel)",
   "language": "python",
   "name": "python3"
  },
  "language_info": {
   "codemirror_mode": {
    "name": "ipython",
    "version": 3
   },
   "file_extension": ".py",
   "mimetype": "text/x-python",
   "name": "python",
   "nbconvert_exporter": "python",
   "pygments_lexer": "ipython3",
   "version": "3.11.5"
  }
 },
 "nbformat": 4,
 "nbformat_minor": 5
}
