{
 "cells": [
  {
   "cell_type": "code",
   "execution_count": null,
   "id": "c610aa72-fedb-4288-b71a-bf28338bd470",
   "metadata": {},
   "outputs": [],
   "source": [
    "import json\n",
    "import pandas as pd\n",
    "\n",
    "PATH_BUSINESS = \"./yelp_academic_dataset_business.json\"\n",
    "PATH_CHECKIN = \"./yelp_academic_dataset_checkin.json\"\n",
    "PATH_REVIEW = \"./yelp_academic_dataset_review.json\"\n",
    "PATH_TIP = \"./yelp_academic_dataset_tip.json\"\n",
    "PATH_USER = \"./yelp_academic_dataset_user.json\""
   ]
  },
  {
   "cell_type": "code",
   "execution_count": null,
   "id": "7eb296f6-14e4-4578-bbde-5c53a920b3d5",
   "metadata": {},
   "outputs": [],
   "source": [
    "def load_part(path, n_lines):\n",
    "    print(\"Now loading\", path)\n",
    "    data = []\n",
    "    with open(path, \"rb\") as f:\n",
    "        for i, line in enumerate(f):\n",
    "            # https://stackoverflow.com/a/26128151\n",
    "            byte_to_str = line.decode('utf8')\n",
    "            item = json.loads(byte_to_str)\n",
    "            data.append(item)\n",
    "            if i % (n_lines // 5) == 0:\n",
    "                print(f\"Loaded {int(i / n_lines * 100)}% ({i}/{n_lines})\")\n",
    "            if i == n_lines:\n",
    "                break\n",
    "    return data"
   ]
  },
  {
   "cell_type": "code",
   "execution_count": null,
   "id": "4420ab77-cc86-4f79-966f-37d01e79580e",
   "metadata": {},
   "outputs": [],
   "source": [
    "data = load_part(PATH_USER, 200)\n",
    "pd.DataFrame(data)"
   ]
  }
 ],
 "metadata": {
  "kernelspec": {
   "display_name": "Python 3 (ipykernel)",
   "language": "python",
   "name": "python3"
  },
  "language_info": {
   "codemirror_mode": {
    "name": "ipython",
    "version": 3
   },
   "file_extension": ".py",
   "mimetype": "text/x-python",
   "name": "python",
   "nbconvert_exporter": "python",
   "pygments_lexer": "ipython3",
   "version": "3.11.5"
  }
 },
 "nbformat": 4,
 "nbformat_minor": 5
}
