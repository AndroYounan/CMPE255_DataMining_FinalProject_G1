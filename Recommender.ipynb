{
 "cells": [
  {
   "cell_type": "markdown",
   "id": "4f5a4d18",
   "metadata": {},
   "source": [
    "# Preprocessing the data"
   ]
  },
  {
   "cell_type": "code",
   "execution_count": null,
   "id": "3791f0a8-c723-4a8c-84f8-10d2c422c840",
   "metadata": {},
   "outputs": [],
   "source": [
    "import LoadUtils\n",
    "import pandas as pd\n",
    "\n",
    "PATH_BUSINESS = 'yelp_dataset/yelp_academic_dataset_business.json'\n",
    "PATH_REVIEW = 'yelp_dataset/yelp_academic_dataset_review.json'"
   ]
  },
  {
   "cell_type": "code",
   "execution_count": null,
   "id": "e1b87f85-dbb3-429c-b46e-c80df6f52f88",
   "metadata": {},
   "outputs": [],
   "source": [
    "# Recommend to set to a low value like 100,000 for quicker iteration.\n",
    "# Set to -1 to load the full files, which will make processing SIGNIFICANTLY slower.\n",
    "N_LINES = 1000000"
   ]
  },
  {
   "cell_type": "code",
   "execution_count": null,
   "id": "5335c077",
   "metadata": {},
   "outputs": [],
   "source": [
    "# Filter for OPEN ONLY businesses in California\n",
    "data_business = LoadUtils.load_matches(PATH_BUSINESS, n_lines=N_LINES, verbose=True,\n",
    "                                       func=LoadUtils.fn_all,\n",
    "                                       args=[(LoadUtils.fn_eq, \"state\", \"CA\"),\n",
    "                                             (LoadUtils.fn_eq, \"is_open\", 1)])\n",
    "business_ca_open = pd.DataFrame(data_business)\n",
    "\n",
    "# Display filtered data\n",
    "print(f\"Number of open businesses in California: {business_ca_open.shape[0]}\")\n",
    "print(business_ca_open.head())"
   ]
  },
  {
   "cell_type": "code",
   "execution_count": null,
   "id": "b07c9de7",
   "metadata": {},
   "outputs": [],
   "source": [
    "biz_ids = set()\n",
    "for item in data_business:\n",
    "    biz_ids.add(item[\"business_id\"])\n",
    "\n",
    "# full data is 7 million entries, so this takes pretty long (around 3 minutes)\n",
    "data_review = LoadUtils.load_matches(PATH_REVIEW, n_lines=N_LINES, verbose=True,\n",
    "                                     func=LoadUtils.fn_in,\n",
    "                                     args=(\"business_id\", biz_ids))"
   ]
  },
  {
   "cell_type": "code",
   "execution_count": null,
   "id": "795622a2-4e32-440a-8b06-99452ab5dc09",
   "metadata": {},
   "outputs": [],
   "source": [
    "df_review = pd.DataFrame(data_review)\n",
    "review_ca_open = df_review.merge(business_ca_open[['business_id', 'name', 'categories']], on='business_id')\n",
    "\n",
    "# Display filtered reviews\n",
    "print(f\"Number of reviews for open businesses in California: {review_ca_open.shape[0]}\")\n",
    "print(f\"These reviews span {len(set(review_ca_open['business_id']))} unique businesses\")\n",
    "print(review_ca_open.head())"
   ]
  },
  {
   "cell_type": "code",
   "execution_count": null,
   "id": "23426d86",
   "metadata": {},
   "outputs": [],
   "source": [
    "# this cell takes pretty long on larger data, 4-5 minutes\n",
    "from sklearn.feature_extraction.text import TfidfVectorizer\n",
    "from sklearn.decomposition import PCA\n",
    "\n",
    "# Convert the textual reviews into a numerical representation using TF-IDF (Term Frequency-Inverse Document Frequency)\n",
    "tfidf = TfidfVectorizer(stop_words='english', max_features=5000)  # Limit to 5000 most important terms\n",
    "review_tfidf = tfidf.fit_transform(review_ca_open['text'])\n",
    "\n",
    "print(f\"TF-IDF Matrix Shape: {review_tfidf.shape}\")  # High-dimensional representation\n",
    "\n",
    "# Apply Dimentionality Reduction using Principal Component Analysis (PCA)\n",
    "pca = PCA(n_components=50)  # Reduce to 50 components\n",
    "reduced_reviews = pca.fit_transform(review_tfidf.toarray())\n",
    "\n",
    "print(f\"Reduced Dimensions Shape: {reduced_reviews.shape}\")  # Lower-dimensional representation"
   ]
  },
  {
   "cell_type": "markdown",
   "id": "f95a1d31",
   "metadata": {},
   "source": [
    "# Clustering"
   ]
  },
  {
   "cell_type": "code",
   "execution_count": null,
   "id": "b2c7a0f6-28b7-41db-9fe1-153969f5e295",
   "metadata": {},
   "outputs": [],
   "source": [
    "# Associate reduced review features with businesses\n",
    "business_features = pd.DataFrame(reduced_reviews, columns=[f'PC{i+1}' for i in range(reduced_reviews.shape[1])])\n",
    "business_features['business_id'] = review_ca_open['business_id'].values"
   ]
  },
  {
   "cell_type": "code",
   "execution_count": null,
   "id": "1ba623a2",
   "metadata": {},
   "outputs": [],
   "source": [
    "from sklearn.cluster import KMeans\n",
    "import matplotlib.pyplot as plt\n",
    "\n",
    "# Determine the best number of clusters using Elbow Method\n",
    "inertia = []\n",
    "k_values = range(2, 30)\n",
    "\n",
    "print(\"Now clustering with k=\", end='')\n",
    "for k in k_values:\n",
    "    print(f\" {k}...\", end='')\n",
    "    kmeans = KMeans(n_clusters=k, random_state=42)\n",
    "    kmeans.fit(business_features.drop(columns=['business_id']))\n",
    "    inertia.append(kmeans.inertia_)\n",
    "\n",
    "# Plot the Elbow Curve\n",
    "plt.figure(figsize=(8, 6))\n",
    "plt.plot(k_values, inertia, marker='o', linestyle='--')\n",
    "plt.title('Elbow Method for Optimal k')\n",
    "plt.xlabel('Number of Clusters (k)')\n",
    "plt.ylabel('Inertia')\n",
    "plt.grid()\n",
    "plt.show()"
   ]
  },
  {
   "cell_type": "code",
   "execution_count": null,
   "id": "5473a4d7",
   "metadata": {},
   "outputs": [],
   "source": [
    "# Apply K-Means with the chosen number of clusters based on the Elbow Curve\n",
    "optimal_k = 10\n",
    "kmeans = KMeans(n_clusters=optimal_k, random_state=42)\n",
    "business_features['cluster'] = kmeans.fit_predict(business_features.drop(columns=['business_id']))\n",
    "\n",
    "# get each business id's most popular cluster\n",
    "biz_cluster = {\"business_id\": [], \"cluster\": []}\n",
    "for biz_id in set(business_features[\"business_id\"]):\n",
    "    item = business_features[business_features[\"business_id\"] == biz_id]\n",
    "    x = item[\"cluster\"].value_counts().index[0]\n",
    "    biz_cluster[\"business_id\"].append(biz_id)\n",
    "    biz_cluster[\"cluster\"].append(x)\n",
    "\n",
    "# Merge cluster labels back to business data\n",
    "df_biz_cluster = pd.DataFrame(biz_cluster)\n",
    "business_clusters = business_ca_open[['business_id', 'name', 'categories']].merge(\n",
    "    df_biz_cluster, on='business_id'\n",
    ")\n",
    "\n",
    "# Display sample results\n",
    "print(business_clusters.head())"
   ]
  },
  {
   "cell_type": "markdown",
   "id": "c8b3db32",
   "metadata": {},
   "source": [
    "# Output"
   ]
  },
  {
   "cell_type": "code",
   "execution_count": null,
   "id": "9577058b",
   "metadata": {},
   "outputs": [],
   "source": [
    "# Merge user reviews with clusters to determine user interactions\n",
    "user_cluster_data = review_ca_open.merge(\n",
    "    business_clusters[['business_id', 'cluster']],\n",
    "    on='business_id')\n",
    "\n",
    "# Assign users to their most-interacted cluster\n",
    "user_cluster_pref = user_cluster_data.groupby(['user_id', 'cluster']).size().reset_index(name='review_count')\n",
    "\n",
    "# Find the cluster with the highest review count for each user\n",
    "user_pref_cluster = user_cluster_pref.loc[\n",
    "    user_cluster_pref.groupby('user_id')['review_count'].idxmax()\n",
    "].rename(columns={'cluster': 'preferred_cluster'})\n",
    "\n",
    "# Recommend businesses from the preferred cluster\n",
    "def recommend_businesses(user_id, num_recommendations=5):\n",
    "    # Check if the user exists in the preference data\n",
    "    if user_id not in user_pref_cluster['user_id'].values:\n",
    "        return f\"User {user_id} has no interactions recorded.\"\n",
    "\n",
    "    # Get the user's preferred cluster\n",
    "    preferred_cluster = user_pref_cluster[user_pref_cluster['user_id'] == user_id]['preferred_cluster'].values[0]\n",
    "    \n",
    "    # Get all businesses in this cluster\n",
    "    cluster_businesses = business_clusters[business_clusters['cluster'] == preferred_cluster]\n",
    "    \n",
    "    # Exclude businesses the user has already reviewed\n",
    "    reviewed_businesses = user_cluster_data[user_cluster_data['user_id'] == user_id]['business_id'].unique()\n",
    "    recommendations = cluster_businesses[~cluster_businesses['business_id'].isin(reviewed_businesses)]\n",
    "    \n",
    "    # Select top businesses for recommendation (or fewer if less available)\n",
    "    return recommendations[['name', 'categories']].sample(n=min(num_recommendations, len(recommendations)))"
   ]
  },
  {
   "cell_type": "code",
   "execution_count": null,
   "id": "49f4565b",
   "metadata": {},
   "outputs": [],
   "source": [
    "ILOC = 420\n",
    "\n",
    "user_id_example = user_pref_cluster['user_id'].iloc[ILOC]\n",
    "recommendations = recommend_businesses(user_id_example, num_recommendations=5)\n",
    "print(f\"Recommendations for User {user_id_example}\")\n",
    "recommendations"
   ]
  }
 ],
 "metadata": {
  "kernelspec": {
   "display_name": "Python 3 (ipykernel)",
   "language": "python",
   "name": "python3"
  },
  "language_info": {
   "codemirror_mode": {
    "name": "ipython",
    "version": 3
   },
   "file_extension": ".py",
   "mimetype": "text/x-python",
   "name": "python",
   "nbconvert_exporter": "python",
   "pygments_lexer": "ipython3",
   "version": "3.11.5"
  }
 },
 "nbformat": 4,
 "nbformat_minor": 5
}
