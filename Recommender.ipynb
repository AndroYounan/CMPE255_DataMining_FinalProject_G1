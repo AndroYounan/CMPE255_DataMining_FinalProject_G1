{
 "cells": [
  {
   "cell_type": "markdown",
   "id": "4f5a4d18",
   "metadata": {},
   "source": [
    "# Preprocessing the data"
   ]
  },
  {
   "cell_type": "code",
   "execution_count": 1,
   "id": "5335c077",
   "metadata": {},
   "outputs": [
    {
     "name": "stdout",
     "output_type": "stream",
     "text": [
      "Number of open businesses in California: 4065\n",
      "                business_id                             name  \\\n",
      "26   noByYNtDLQAra9ccqxdfDw                              H&M   \n",
      "85   IDtLPgUrqorrpqSLdfMhZQ             Helena Avenue Bakery   \n",
      "91   nUqrF-h9S7myCcvNDecOvw             Iron Horse Auto Body   \n",
      "120  bYjnX_J1bHZob10DoSFkqQ      Tinkle Belle Diaper Service   \n",
      "141  SZU9c8V2GuREDN5KgyHFJw  Santa Barbara Shellfish Company   \n",
      "\n",
      "                   address           city state postal_code   latitude  \\\n",
      "26        827-833 State St  Santa Barbara    CA       93101  34.420209   \n",
      "85   131 Anacapa St, Ste C  Santa Barbara    CA       93101  34.414445   \n",
      "91          825 Cacique St  Santa Barbara    CA       93103  34.419620   \n",
      "120                         Santa Barbara    CA       93101  34.420334   \n",
      "141      230 Stearns Wharf  Santa Barbara    CA       93101  34.408715   \n",
      "\n",
      "      longitude  stars  review_count  is_open  \\\n",
      "26  -119.700460    3.0            24        1   \n",
      "85  -119.690672    4.0           389        1   \n",
      "91  -119.677032    4.5            32        1   \n",
      "120 -119.710749    5.0            17        1   \n",
      "141 -119.685019    4.0          2404        1   \n",
      "\n",
      "                                            attributes  \\\n",
      "26   {'BusinessAcceptsCreditCards': 'True', 'BikePa...   \n",
      "85   {'RestaurantsTakeOut': 'True', 'NoiseLevel': '...   \n",
      "91   {'BusinessAcceptsCreditCards': 'True', 'WiFi':...   \n",
      "120  {'BusinessAcceptsCreditCards': 'True', 'ByAppo...   \n",
      "141  {'OutdoorSeating': 'True', 'RestaurantsAttire'...   \n",
      "\n",
      "                                            categories  \\\n",
      "26   Women's Clothing, Accessories, Children's Clot...   \n",
      "85   Food, Restaurants, Salad, Coffee & Tea, Breakf...   \n",
      "91                      Towing, Automotive, Body Shops   \n",
      "120  Parenting Classes, Maternity Wear, Fashion, Ed...   \n",
      "141  Live/Raw Food, Restaurants, Seafood, Beer Bar,...   \n",
      "\n",
      "                                                 hours  \n",
      "26   {'Monday': '11:0-18:0', 'Tuesday': '11:0-18:0'...  \n",
      "85   {'Monday': '0:0-0:0', 'Tuesday': '8:0-14:0', '...  \n",
      "91   {'Monday': '0:0-0:0', 'Tuesday': '8:0-17:0', '...  \n",
      "120  {'Monday': '0:0-0:0', 'Tuesday': '10:0-18:0', ...  \n",
      "141  {'Monday': '0:0-0:0', 'Tuesday': '11:0-21:0', ...  \n"
     ]
    }
   ],
   "source": [
    "import pandas as pd\n",
    "import json\n",
    "\n",
    "# Load business data\n",
    "business_df = pd.read_json('yelp_dataset\\yelp_academic_dataset_business.json', lines=True)\n",
    "\n",
    "# Filter for  OPEN ONLY businesses in California\n",
    "business_ca_open = business_df[(business_df['state'] == 'CA') & (business_df['is_open'] == 1)]\n",
    "\n",
    "# Display filtered data\n",
    "print(f\"Number of open businesses in California: {business_ca_open.shape[0]}\")\n",
    "print(business_ca_open.head())"
   ]
  },
  {
   "cell_type": "code",
   "execution_count": 2,
   "id": "b07c9de7",
   "metadata": {},
   "outputs": [
    {
     "name": "stdout",
     "output_type": "stream",
     "text": [
      "Number of reviews for open businesses in California: 287807\n",
      "                review_id                 user_id             business_id  \\\n",
      "0  ZKvDG2sBvHVdF5oBNUOpAQ  wSTuiTk-sKNdcFyprzZAjg  B5XSoSG3SfvQGtKEGQ1tSQ   \n",
      "1  9ag-bC-521T1i3IypXr4Ug  sx_cqxyWRUoOIoy_AXmLdQ  B5XSoSG3SfvQGtKEGQ1tSQ   \n",
      "2  80p5xO3dbpd80T6vPTL8DQ  D7ct4p7uUk5t4LFSjVnO4A  B5XSoSG3SfvQGtKEGQ1tSQ   \n",
      "3  RScubg9WIp165432dQfVHQ  r9VkVP_4d2_KMHA9ZN2c6w  B5XSoSG3SfvQGtKEGQ1tSQ   \n",
      "4  _JsMDKDQJ8uc6logHxA0-w  s0l9vVweCwvudj5TNGMl6w  B5XSoSG3SfvQGtKEGQ1tSQ   \n",
      "\n",
      "   stars  useful  funny  cool  \\\n",
      "0      3       1      1     0   \n",
      "1      4       1      0     0   \n",
      "2      5       0      0     0   \n",
      "3      5      14      9    13   \n",
      "4      5       1      0     0   \n",
      "\n",
      "                                                text                date  \\\n",
      "0  This easter instead of going to Lopez Lake we ... 2016-03-30 22:46:33   \n",
      "1  I work with a college group that does camping ... 2013-09-07 21:16:36   \n",
      "2  My SO and I love exploring new trails and so i... 2018-08-05 21:50:27   \n",
      "3  I can't believe there's only one review for th... 2011-07-06 23:14:29   \n",
      "4  I love this area for hiking! I go there all th... 2016-04-03 03:24:46   \n",
      "\n",
      "                         name          categories  \n",
      "0  Los Padres National Forest  Parks, Active Life  \n",
      "1  Los Padres National Forest  Parks, Active Life  \n",
      "2  Los Padres National Forest  Parks, Active Life  \n",
      "3  Los Padres National Forest  Parks, Active Life  \n",
      "4  Los Padres National Forest  Parks, Active Life  \n"
     ]
    }
   ],
   "source": [
    "# Merge Open California Businesses with Reviews using business_id as key\n",
    "\n",
    "# Load review data\n",
    "review_df = pd.read_json('yelp_dataset\\yelp_academic_dataset_review.json', lines=True)\n",
    "\n",
    "# Merge only reviews for open businesses in California\n",
    "review_ca_open = review_df.merge(business_ca_open[['business_id', 'name', 'categories']], on='business_id')\n",
    "\n",
    "# Display filtered reviews\n",
    "print(f\"Number of reviews for open businesses in California: {review_ca_open.shape[0]}\")\n",
    "print(review_ca_open.head())"
   ]
  },
  {
   "cell_type": "code",
   "execution_count": 3,
   "id": "23426d86",
   "metadata": {},
   "outputs": [
    {
     "name": "stdout",
     "output_type": "stream",
     "text": [
      "TF-IDF Matrix Shape: (287807, 5000)\n",
      "Reduced Dimensions Shape: (287807, 50)\n"
     ]
    }
   ],
   "source": [
    "from sklearn.feature_extraction.text import TfidfVectorizer\n",
    "from sklearn.decomposition import PCA\n",
    "\n",
    "# Convert the textual reviews into a numerical representation using TF-IDF (Term Frequency-Inverse Document Frequency)\n",
    "tfidf = TfidfVectorizer(stop_words='english', max_features=5000)  # Limit to 5000 most important terms\n",
    "review_tfidf = tfidf.fit_transform(review_ca_open['text'])\n",
    "\n",
    "print(f\"TF-IDF Matrix Shape: {review_tfidf.shape}\")  # High-dimensional representation\n",
    "\n",
    "# Apply Dimentionality Reduction using Principal Component Analysis (PCA)\n",
    "pca = PCA(n_components=50)  # Reduce to 50 components\n",
    "reduced_reviews = pca.fit_transform(review_tfidf.toarray())\n",
    "\n",
    "print(f\"Reduced Dimensions Shape: {reduced_reviews.shape}\")  # Lower-dimensional representation"
   ]
  },
  {
   "cell_type": "markdown",
   "id": "f95a1d31",
   "metadata": {},
   "source": [
    "# Clustering"
   ]
  },
  {
   "cell_type": "code",
   "execution_count": 5,
   "id": "1ba623a2",
   "metadata": {},
   "outputs": [
    {
     "data": {
      "image/png": "[encoded data removed]",
      "text/plain": [
       "<Figure size 800x600 with 1 Axes>"
      ]
     },
     "metadata": {},
     "output_type": "display_data"
    }
   ],
   "source": [
    "from sklearn.cluster import KMeans\n",
    "import matplotlib.pyplot as plt\n",
    "\n",
    "# Associate reduced review features with businesses\n",
    "business_features = pd.DataFrame(reduced_reviews, columns=[f'PC{i+1}' for i in range(reduced_reviews.shape[1])])\n",
    "business_features['business_id'] = review_ca_open['business_id'].values\n",
    "\n",
    "# Determine the best number of clusters using Elbow Method\n",
    "inertia = []\n",
    "k_values = range(2, 30)\n",
    "\n",
    "for k in k_values:\n",
    "    kmeans = KMeans(n_clusters=k, random_state=42)\n",
    "    kmeans.fit(business_features.drop(columns=['business_id']))\n",
    "    inertia.append(kmeans.inertia_)\n",
    "\n",
    "# Plot the Elbow Curve\n",
    "plt.figure(figsize=(8, 6))\n",
    "plt.plot(k_values, inertia, marker='o', linestyle='--')\n",
    "plt.title('Elbow Method for Optimal k')\n",
    "plt.xlabel('Number of Clusters (k)')\n",
    "plt.ylabel('Inertia')\n",
    "plt.grid()\n",
    "plt.show()"
   ]
  },
  {
   "cell_type": "code",
   "execution_count": 10,
   "id": "5473a4d7",
   "metadata": {},
   "outputs": [
    {
     "name": "stdout",
     "output_type": "stream",
     "text": [
      "              business_id  cluster                        name  \\\n",
      "0  B5XSoSG3SfvQGtKEGQ1tSQ        2  Los Padres National Forest   \n",
      "1  B5XSoSG3SfvQGtKEGQ1tSQ        2  Los Padres National Forest   \n",
      "2  B5XSoSG3SfvQGtKEGQ1tSQ        8  Los Padres National Forest   \n",
      "3  B5XSoSG3SfvQGtKEGQ1tSQ        2  Los Padres National Forest   \n",
      "4  B5XSoSG3SfvQGtKEGQ1tSQ        2  Los Padres National Forest   \n",
      "\n",
      "           categories  \n",
      "0  Parks, Active Life  \n",
      "1  Parks, Active Life  \n",
      "2  Parks, Active Life  \n",
      "3  Parks, Active Life  \n",
      "4  Parks, Active Life  \n"
     ]
    }
   ],
   "source": [
    "# Apply K-Means with the chosen number of clusters based on the Elbow Curve\n",
    "optimal_k = 10\n",
    "kmeans = KMeans(n_clusters=optimal_k, random_state=42)\n",
    "business_features['cluster'] = kmeans.fit_predict(business_features.drop(columns=['business_id']))\n",
    "\n",
    "# Merge cluster labels back to business data\n",
    "business_clusters = business_features[['business_id', 'cluster']].merge(\n",
    "    business_ca_open[['business_id', 'name', 'categories']], on='business_id'\n",
    ")\n",
    "\n",
    "# Display sample results\n",
    "print(business_clusters.head())"
   ]
  },
  {
   "cell_type": "markdown",
   "id": "c8b3db32",
   "metadata": {},
   "source": [
    "# Output"
   ]
  },
  {
   "cell_type": "code",
   "execution_count": 11,
   "id": "9577058b",
   "metadata": {},
   "outputs": [],
   "source": [
    "# Merge user reviews with clusters to determine user interactions\n",
    "user_cluster_data = review_ca_open.merge(\n",
    "    business_clusters[['business_id', 'cluster']], on='business_id'\n",
    ")\n",
    "\n",
    "# Assign users to their most-interacted cluster\n",
    "user_cluster_pref = user_cluster_data.groupby(['user_id', 'cluster']).size().reset_index(name='review_count')\n",
    "\n",
    "# Find the cluster with the highest review count for each user\n",
    "user_pref_cluster = user_cluster_pref.loc[\n",
    "    user_cluster_pref.groupby('user_id')['review_count'].idxmax()\n",
    "].rename(columns={'cluster': 'preferred_cluster'})\n",
    "\n",
    "# Recommend businesses from the preferred cluster\n",
    "def recommend_businesses(user_id, num_recommendations=5):\n",
    "    # Check if the user exists in the preference data\n",
    "    if user_id not in user_pref_cluster['user_id'].values:\n",
    "        return f\"User {user_id} has no interactions recorded.\"\n",
    "\n",
    "    # Get the user's preferred cluster\n",
    "    preferred_cluster = user_pref_cluster[user_pref_cluster['user_id'] == user_id]['preferred_cluster'].values[0]\n",
    "    \n",
    "    # Get all businesses in this cluster\n",
    "    cluster_businesses = business_clusters[business_clusters['cluster'] == preferred_cluster]\n",
    "    \n",
    "    # Exclude businesses the user has already reviewed\n",
    "    reviewed_businesses = user_cluster_data[user_cluster_data['user_id'] == user_id]['business_id'].unique()\n",
    "    recommendations = cluster_businesses[~cluster_businesses['business_id'].isin(reviewed_businesses)]\n",
    "    \n",
    "    # Select top businesses for recommendation (or fewer if less available)\n",
    "    return recommendations[['name', 'categories']].sample(n=min(num_recommendations, len(recommendations)))"
   ]
  },
  {
   "cell_type": "code",
   "execution_count": 12,
   "id": "49f4565b",
   "metadata": {},
   "outputs": [
    {
     "name": "stdout",
     "output_type": "stream",
     "text": [
      "Recommendations for User wSTuiTk-sKNdcFyprzZAjg:\n",
      "                                 name  \\\n",
      "89280                  Arigato Sushi   \n",
      "247359      The Little Things Bakery   \n",
      "266622   Mesa Burger - Santa Barbara   \n",
      "77077   Time to Shine Window Washing   \n",
      "76612                      Satellite   \n",
      "\n",
      "                                               categories  \n",
      "89280     Restaurants, Sushi Bars, Japanese, Asian Fusion  \n",
      "247359  Patisserie/Cake Shop, French, Food, Restaurant...  \n",
      "266622  American (New), American (Traditional), Bars, ...  \n",
      "77077   Home Staging, Real Estate, Gutter Services, Wi...  \n",
      "76612   Restaurants, Vegan, Tapas/Small Plates, Vegeta...  \n"
     ]
    }
   ],
   "source": [
    "# Example: Generate recommendations for a user\n",
    "user_id_example = user_cluster_data['user_id'].iloc[0]  # recommend for the first user in the dataset\n",
    "recommendations = recommend_businesses(user_id_example, num_recommendations=5)\n",
    "print(f\"Recommendations for User {user_id_example}:\\n\", recommendations)"
   ]
  }
 ],
 "metadata": {
  "kernelspec": {
   "display_name": "Python 3 (ipykernel)",
   "language": "python",
   "name": "python3"
  },
  "language_info": {
   "codemirror_mode": {
    "name": "ipython",
    "version": 3
   },
   "file_extension": ".py",
   "mimetype": "text/x-python",
   "name": "python",
   "nbconvert_exporter": "python",
   "pygments_lexer": "ipython3",
   "version": "3.11.5"
  }
 },
 "nbformat": 4,
 "nbformat_minor": 5
}
