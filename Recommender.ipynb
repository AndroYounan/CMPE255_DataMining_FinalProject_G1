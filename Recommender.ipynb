{
 "cells": [
  {
   "cell_type": "markdown",
   "id": "4f5a4d18",
   "metadata": {},
   "source": [
    "# Preprocessing the data"
   ]
  },
  {
   "cell_type": "code",
   "execution_count": 2,
   "id": "3791f0a8-c723-4a8c-84f8-10d2c422c840",
   "metadata": {},
   "outputs": [],
   "source": [
    "import LoadUtils\n",
    "import pandas as pd\n",
    "\n",
    "PATH_BUSINESS = 'yelp_dataset/yelp_academic_dataset_business.json'\n",
    "PATH_REVIEW = 'yelp_dataset/yelp_academic_dataset_review.json'"
   ]
  },
  {
   "cell_type": "code",
   "execution_count": 3,
   "id": "5335c077",
   "metadata": {},
   "outputs": [
    {
     "name": "stdout",
     "output_type": "stream",
     "text": [
      "Now loading yelp_dataset/yelp_academic_dataset_business.json\n",
      "[**] Loaded 4065/150345 entries (0 unprocessable)\n",
      "Number of open businesses in California: 4065\n",
      "              business_id                             name  \\\n",
      "0  noByYNtDLQAra9ccqxdfDw                              H&M   \n",
      "1  IDtLPgUrqorrpqSLdfMhZQ             Helena Avenue Bakery   \n",
      "2  nUqrF-h9S7myCcvNDecOvw             Iron Horse Auto Body   \n",
      "3  bYjnX_J1bHZob10DoSFkqQ      Tinkle Belle Diaper Service   \n",
      "4  SZU9c8V2GuREDN5KgyHFJw  Santa Barbara Shellfish Company   \n",
      "\n",
      "                 address           city state postal_code   latitude  \\\n",
      "0       827-833 State St  Santa Barbara    CA       93101  34.420209   \n",
      "1  131 Anacapa St, Ste C  Santa Barbara    CA       93101  34.414445   \n",
      "2         825 Cacique St  Santa Barbara    CA       93103  34.419620   \n",
      "3                         Santa Barbara    CA       93101  34.420334   \n",
      "4      230 Stearns Wharf  Santa Barbara    CA       93101  34.408715   \n",
      "\n",
      "    longitude  stars  review_count  is_open  \\\n",
      "0 -119.700460    3.0            24        1   \n",
      "1 -119.690672    4.0           389        1   \n",
      "2 -119.677032    4.5            32        1   \n",
      "3 -119.710749    5.0            17        1   \n",
      "4 -119.685019    4.0          2404        1   \n",
      "\n",
      "                                          attributes  \\\n",
      "0  {'BusinessAcceptsCreditCards': 'True', 'BikePa...   \n",
      "1  {'RestaurantsTakeOut': 'True', 'NoiseLevel': '...   \n",
      "2  {'BusinessAcceptsCreditCards': 'True', 'WiFi':...   \n",
      "3  {'BusinessAcceptsCreditCards': 'True', 'ByAppo...   \n",
      "4  {'OutdoorSeating': 'True', 'RestaurantsAttire'...   \n",
      "\n",
      "                                          categories  \\\n",
      "0  Women's Clothing, Accessories, Children's Clot...   \n",
      "1  Food, Restaurants, Salad, Coffee & Tea, Breakf...   \n",
      "2                     Towing, Automotive, Body Shops   \n",
      "3  Parenting Classes, Maternity Wear, Fashion, Ed...   \n",
      "4  Live/Raw Food, Restaurants, Seafood, Beer Bar,...   \n",
      "\n",
      "                                               hours  \n",
      "0  {'Monday': '11:0-18:0', 'Tuesday': '11:0-18:0'...  \n",
      "1  {'Monday': '0:0-0:0', 'Tuesday': '8:0-14:0', '...  \n",
      "2  {'Monday': '0:0-0:0', 'Tuesday': '8:0-17:0', '...  \n",
      "3  {'Monday': '0:0-0:0', 'Tuesday': '10:0-18:0', ...  \n",
      "4  {'Monday': '0:0-0:0', 'Tuesday': '11:0-21:0', ...  \n"
     ]
    }
   ],
   "source": [
    "# Filter for OPEN ONLY businesses in California\n",
    "data_business = LoadUtils.load_matches(PATH_BUSINESS, verbose=True,\n",
    "                                       func=LoadUtils.fn_all,\n",
    "                                       args=[(LoadUtils.fn_eq, \"state\", \"CA\"),\n",
    "                                             (LoadUtils.fn_eq, \"is_open\", 1)])\n",
    "business_ca_open = pd.DataFrame(data_business)\n",
    "\n",
    "# Display filtered data\n",
    "print(f\"Number of open businesses in California: {business_ca_open.shape[0]}\")\n",
    "print(business_ca_open.head())"
   ]
  },
  {
   "cell_type": "code",
   "execution_count": 4,
   "id": "b07c9de7",
   "metadata": {},
   "outputs": [
    {
     "name": "stdout",
     "output_type": "stream",
     "text": [
      "Now loading yelp_dataset/yelp_academic_dataset_review.json\n",
      "[====================] Loaded 3869/100000 entries (0 unprocessable)\n"
     ]
    }
   ],
   "source": [
    "biz_ids = set()\n",
    "for item in data_business:\n",
    "    biz_ids.add(item[\"business_id\"])\n",
    "\n",
    "# full data is 7 million entries, so this takes pretty long (around 3 minutes)\n",
    "data_review = LoadUtils.load_matches(PATH_REVIEW, verbose=True, n_lines=100000,\n",
    "                                     func=LoadUtils.fn_in,\n",
    "                                     args=(\"business_id\", biz_ids))\n",
    "\n",
    "# Merge only reviews for open businesses in California\n",
    "review_df = pd.DataFrame(data_review)"
   ]
  },
  {
   "cell_type": "code",
   "execution_count": 5,
   "id": "795622a2-4e32-440a-8b06-99452ab5dc09",
   "metadata": {},
   "outputs": [
    {
     "name": "stdout",
     "output_type": "stream",
     "text": [
      "Number of reviews for open businesses in California: 3869\n",
      "                review_id                 user_id             business_id  \\\n",
      "0  ZKvDG2sBvHVdF5oBNUOpAQ  wSTuiTk-sKNdcFyprzZAjg  B5XSoSG3SfvQGtKEGQ1tSQ   \n",
      "1  9ag-bC-521T1i3IypXr4Ug  sx_cqxyWRUoOIoy_AXmLdQ  B5XSoSG3SfvQGtKEGQ1tSQ   \n",
      "2  80p5xO3dbpd80T6vPTL8DQ  D7ct4p7uUk5t4LFSjVnO4A  B5XSoSG3SfvQGtKEGQ1tSQ   \n",
      "3  pUycOfUwM8vqX7KjRRhUEA  59MxRhNVhU9MYndMkz0wtw  gebiRewfieSdtt17PTW6Zg   \n",
      "4  _Ub20uO1MKy4XOVPOdzpqw  lUYboGI6aFbZ0dX27pijpA  gebiRewfieSdtt17PTW6Zg   \n",
      "\n",
      "   stars  useful  funny  cool  \\\n",
      "0    3.0       1      1     0   \n",
      "1    4.0       1      0     0   \n",
      "2    5.0       0      0     0   \n",
      "3    3.0       0      0     0   \n",
      "4    1.0       0      2     0   \n",
      "\n",
      "                                                text                 date  \\\n",
      "0  This easter instead of going to Lopez Lake we ...  2016-03-30 22:46:33   \n",
      "1  I work with a college group that does camping ...  2013-09-07 21:16:36   \n",
      "2  My SO and I love exploring new trails and so i...  2018-08-05 21:50:27   \n",
      "3  Had a party of 6 here for hibachi. Our waitres...  2016-07-25 07:31:06   \n",
      "4  Sat down over a half hour, only miso and drink...  2017-06-28 01:04:59   \n",
      "\n",
      "                              name  \\\n",
      "0       Los Padres National Forest   \n",
      "1       Los Padres National Forest   \n",
      "2       Los Padres National Forest   \n",
      "3  Hibachi Steak House & Sushi Bar   \n",
      "4  Hibachi Steak House & Sushi Bar   \n",
      "\n",
      "                                       categories  \n",
      "0                              Parks, Active Life  \n",
      "1                              Parks, Active Life  \n",
      "2                              Parks, Active Life  \n",
      "3  Steakhouses, Sushi Bars, Restaurants, Japanese  \n",
      "4  Steakhouses, Sushi Bars, Restaurants, Japanese  \n"
     ]
    }
   ],
   "source": [
    "review_ca_open = review_df.merge(business_ca_open[['business_id', 'name', 'categories']], on='business_id')\n",
    "\n",
    "# Display filtered reviews\n",
    "print(f\"Number of reviews for open businesses in California: {review_ca_open.shape[0]}\")\n",
    "print(review_ca_open.head())"
   ]
  },
  {
   "cell_type": "code",
   "execution_count": 6,
   "id": "23426d86",
   "metadata": {},
   "outputs": [
    {
     "name": "stdout",
     "output_type": "stream",
     "text": [
      "TF-IDF Matrix Shape: (3869, 5000)\n",
      "Reduced Dimensions Shape: (3869, 50)\n"
     ]
    }
   ],
   "source": [
    "# this cell takes pretty long on the full data, 4-5 minutes\n",
    "from sklearn.feature_extraction.text import TfidfVectorizer\n",
    "from sklearn.decomposition import PCA\n",
    "\n",
    "# Convert the textual reviews into a numerical representation using TF-IDF (Term Frequency-Inverse Document Frequency)\n",
    "tfidf = TfidfVectorizer(stop_words='english', max_features=5000)  # Limit to 5000 most important terms\n",
    "review_tfidf = tfidf.fit_transform(review_ca_open['text'])\n",
    "\n",
    "print(f\"TF-IDF Matrix Shape: {review_tfidf.shape}\")  # High-dimensional representation\n",
    "\n",
    "# Apply Dimentionality Reduction using Principal Component Analysis (PCA)\n",
    "pca = PCA(n_components=50)  # Reduce to 50 components\n",
    "reduced_reviews = pca.fit_transform(review_tfidf.toarray())\n",
    "\n",
    "print(f\"Reduced Dimensions Shape: {reduced_reviews.shape}\")  # Lower-dimensional representation"
   ]
  },
  {
   "cell_type": "markdown",
   "id": "f95a1d31",
   "metadata": {},
   "source": [
    "# Clustering"
   ]
  },
  {
   "cell_type": "code",
   "execution_count": 8,
   "id": "1ba623a2",
   "metadata": {},
   "outputs": [
    {
     "name": "stdout",
     "output_type": "stream",
     "text": [
      "Now clustering with k= 2... 3... 4... 5... 6... 7... 8... 9... 10... 11... 12... 13... 14... 15... 16... 17... 18... 19... 20... 21... 22... 23... 24... 25... 26... 27... 28... 29..."
     ]
    },
    {
     "data": {
      "image/png": "[encoded data removed]",
      "text/plain": [
       "<Figure size 800x600 with 1 Axes>"
      ]
     },
     "metadata": {},
     "output_type": "display_data"
    }
   ],
   "source": [
    "from sklearn.cluster import KMeans\n",
    "import matplotlib.pyplot as plt\n",
    "\n",
    "# Associate reduced review features with businesses\n",
    "business_features = pd.DataFrame(reduced_reviews, columns=[f'PC{i+1}' for i in range(reduced_reviews.shape[1])])\n",
    "business_features['business_id'] = review_ca_open['business_id'].values\n",
    "\n",
    "# Determine the best number of clusters using Elbow Method\n",
    "inertia = []\n",
    "k_values = range(2, 30)\n",
    "\n",
    "print(\"Now clustering with k=\", end='')\n",
    "for k in k_values:\n",
    "    print(f\" {k}...\", end='')\n",
    "    kmeans = KMeans(n_clusters=k, random_state=42)\n",
    "    kmeans.fit(business_features.drop(columns=['business_id']))\n",
    "    inertia.append(kmeans.inertia_)\n",
    "\n",
    "# Plot the Elbow Curve\n",
    "plt.figure(figsize=(8, 6))\n",
    "plt.plot(k_values, inertia, marker='o', linestyle='--')\n",
    "plt.title('Elbow Method for Optimal k')\n",
    "plt.xlabel('Number of Clusters (k)')\n",
    "plt.ylabel('Inertia')\n",
    "plt.grid()\n",
    "plt.show()"
   ]
  },
  {
   "cell_type": "code",
   "execution_count": 9,
   "id": "5473a4d7",
   "metadata": {},
   "outputs": [
    {
     "name": "stdout",
     "output_type": "stream",
     "text": [
      "              business_id  cluster                             name  \\\n",
      "0  B5XSoSG3SfvQGtKEGQ1tSQ        9       Los Padres National Forest   \n",
      "1  B5XSoSG3SfvQGtKEGQ1tSQ        9       Los Padres National Forest   \n",
      "2  B5XSoSG3SfvQGtKEGQ1tSQ        9       Los Padres National Forest   \n",
      "3  gebiRewfieSdtt17PTW6Zg        3  Hibachi Steak House & Sushi Bar   \n",
      "4  gebiRewfieSdtt17PTW6Zg        3  Hibachi Steak House & Sushi Bar   \n",
      "\n",
      "                                       categories  \n",
      "0                              Parks, Active Life  \n",
      "1                              Parks, Active Life  \n",
      "2                              Parks, Active Life  \n",
      "3  Steakhouses, Sushi Bars, Restaurants, Japanese  \n",
      "4  Steakhouses, Sushi Bars, Restaurants, Japanese  \n"
     ]
    }
   ],
   "source": [
    "# Apply K-Means with the chosen number of clusters based on the Elbow Curve\n",
    "optimal_k = 10\n",
    "kmeans = KMeans(n_clusters=optimal_k, random_state=42)\n",
    "business_features['cluster'] = kmeans.fit_predict(business_features.drop(columns=['business_id']))\n",
    "\n",
    "# Merge cluster labels back to business data\n",
    "business_clusters = business_features[['business_id', 'cluster']].merge(\n",
    "    business_ca_open[['business_id', 'name', 'categories']], on='business_id'\n",
    ")\n",
    "\n",
    "# Display sample results\n",
    "print(business_clusters.head())"
   ]
  },
  {
   "cell_type": "markdown",
   "id": "c8b3db32",
   "metadata": {},
   "source": [
    "# Output"
   ]
  },
  {
   "cell_type": "code",
   "execution_count": 11,
   "id": "9577058b",
   "metadata": {},
   "outputs": [],
   "source": [
    "# Merge user reviews with clusters to determine user interactions\n",
    "user_cluster_data = review_ca_open.merge(\n",
    "    business_clusters[['business_id', 'cluster']], on='business_id'\n",
    ")\n",
    "\n",
    "# Assign users to their most-interacted cluster\n",
    "user_cluster_pref = user_cluster_data.groupby(['user_id', 'cluster']).size().reset_index(name='review_count')\n",
    "\n",
    "# Find the cluster with the highest review count for each user\n",
    "user_pref_cluster = user_cluster_pref.loc[\n",
    "    user_cluster_pref.groupby('user_id')['review_count'].idxmax()\n",
    "].rename(columns={'cluster': 'preferred_cluster'})\n",
    "\n",
    "# Recommend businesses from the preferred cluster\n",
    "def recommend_businesses(user_id, num_recommendations=5):\n",
    "    # Check if the user exists in the preference data\n",
    "    if user_id not in user_pref_cluster['user_id'].values:\n",
    "        return f\"User {user_id} has no interactions recorded.\"\n",
    "\n",
    "    # Get the user's preferred cluster\n",
    "    preferred_cluster = user_pref_cluster[user_pref_cluster['user_id'] == user_id]['preferred_cluster'].values[0]\n",
    "    \n",
    "    # Get all businesses in this cluster\n",
    "    cluster_businesses = business_clusters[business_clusters['cluster'] == preferred_cluster]\n",
    "    \n",
    "    # Exclude businesses the user has already reviewed\n",
    "    reviewed_businesses = user_cluster_data[user_cluster_data['user_id'] == user_id]['business_id'].unique()\n",
    "    recommendations = cluster_businesses[~cluster_businesses['business_id'].isin(reviewed_businesses)]\n",
    "    \n",
    "    # Select top businesses for recommendation (or fewer if less available)\n",
    "    return recommendations[['name', 'categories']].sample(n=min(num_recommendations, len(recommendations)))"
   ]
  },
  {
   "cell_type": "code",
   "execution_count": 12,
   "id": "49f4565b",
   "metadata": {},
   "outputs": [
    {
     "name": "stdout",
     "output_type": "stream",
     "text": [
      "Recommendations for User 59MxRhNVhU9MYndMkz0wtw:\n",
      "                              name  \\\n",
      "2179                   Sushi Tyme   \n",
      "2270  Sakana Sushi Bar & Japanese   \n",
      "1466                      Ichiban   \n",
      "1457                      Ichiban   \n",
      "2051              Sushiya Express   \n",
      "\n",
      "                                             categories  \n",
      "2179  Restaurants, Asian Fusion, Seafood, Sushi Bars...  \n",
      "2270                  Sushi Bars, Japanese, Restaurants  \n",
      "1466                  Restaurants, Japanese, Sushi Bars  \n",
      "1457                  Restaurants, Japanese, Sushi Bars  \n",
      "2051  Sushi Bars, Caterers, Food, Fast Food, Event P...  \n"
     ]
    }
   ],
   "source": [
    "# Example: Generate recommendations for a user\n",
    "user_id_example = user_cluster_data['user_id'].iloc[42]  # recommend for the first user in the dataset\n",
    "recommendations = recommend_businesses(user_id_example, num_recommendations=5)\n",
    "print(f\"Recommendations for User {user_id_example}:\\n\", recommendations)"
   ]
  }
 ],
 "metadata": {
  "kernelspec": {
   "display_name": "Python 3 (ipykernel)",
   "language": "python",
   "name": "python3"
  },
  "language_info": {
   "codemirror_mode": {
    "name": "ipython",
    "version": 3
   },
   "file_extension": ".py",
   "mimetype": "text/x-python",
   "name": "python",
   "nbconvert_exporter": "python",
   "pygments_lexer": "ipython3",
   "version": "3.11.5"
  }
 },
 "nbformat": 4,
 "nbformat_minor": 5
}
