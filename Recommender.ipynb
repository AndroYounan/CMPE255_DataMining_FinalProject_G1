{
 "cells": [
  {
   "cell_type": "markdown",
   "id": "4f5a4d18",
   "metadata": {},
   "source": [
    "# Preprocessing the data"
   ]
  },
  {
   "cell_type": "code",
   "execution_count": 1,
   "id": "5335c077",
   "metadata": {},
   "outputs": [
    {
     "name": "stdout",
     "output_type": "stream",
     "text": [
      "Number of open businesses in California: 4065\n",
      "                business_id                             name  \\\n",
      "26   noByYNtDLQAra9ccqxdfDw                              H&M   \n",
      "85   IDtLPgUrqorrpqSLdfMhZQ             Helena Avenue Bakery   \n",
      "91   nUqrF-h9S7myCcvNDecOvw             Iron Horse Auto Body   \n",
      "120  bYjnX_J1bHZob10DoSFkqQ      Tinkle Belle Diaper Service   \n",
      "141  SZU9c8V2GuREDN5KgyHFJw  Santa Barbara Shellfish Company   \n",
      "\n",
      "                   address           city state postal_code   latitude  \\\n",
      "26        827-833 State St  Santa Barbara    CA       93101  34.420209   \n",
      "85   131 Anacapa St, Ste C  Santa Barbara    CA       93101  34.414445   \n",
      "91          825 Cacique St  Santa Barbara    CA       93103  34.419620   \n",
      "120                         Santa Barbara    CA       93101  34.420334   \n",
      "141      230 Stearns Wharf  Santa Barbara    CA       93101  34.408715   \n",
      "\n",
      "      longitude  stars  review_count  is_open  \\\n",
      "26  -119.700460    3.0            24        1   \n",
      "85  -119.690672    4.0           389        1   \n",
      "91  -119.677032    4.5            32        1   \n",
      "120 -119.710749    5.0            17        1   \n",
      "141 -119.685019    4.0          2404        1   \n",
      "\n",
      "                                            attributes  \\\n",
      "26   {'BusinessAcceptsCreditCards': 'True', 'BikePa...   \n",
      "85   {'RestaurantsTakeOut': 'True', 'NoiseLevel': '...   \n",
      "91   {'BusinessAcceptsCreditCards': 'True', 'WiFi':...   \n",
      "120  {'BusinessAcceptsCreditCards': 'True', 'ByAppo...   \n",
      "141  {'OutdoorSeating': 'True', 'RestaurantsAttire'...   \n",
      "\n",
      "                                            categories  \\\n",
      "26   Women's Clothing, Accessories, Children's Clot...   \n",
      "85   Food, Restaurants, Salad, Coffee & Tea, Breakf...   \n",
      "91                      Towing, Automotive, Body Shops   \n",
      "120  Parenting Classes, Maternity Wear, Fashion, Ed...   \n",
      "141  Live/Raw Food, Restaurants, Seafood, Beer Bar,...   \n",
      "\n",
      "                                                 hours  \n",
      "26   {'Monday': '11:0-18:0', 'Tuesday': '11:0-18:0'...  \n",
      "85   {'Monday': '0:0-0:0', 'Tuesday': '8:0-14:0', '...  \n",
      "91   {'Monday': '0:0-0:0', 'Tuesday': '8:0-17:0', '...  \n",
      "120  {'Monday': '0:0-0:0', 'Tuesday': '10:0-18:0', ...  \n",
      "141  {'Monday': '0:0-0:0', 'Tuesday': '11:0-21:0', ...  \n"
     ]
    }
   ],
   "source": [
    "import pandas as pd\n",
    "import json\n",
    "\n",
    "# Load business data\n",
    "business_df = pd.read_json('yelp_dataset\\yelp_academic_dataset_business.json', lines=True)\n",
    "\n",
    "# Filter for  OPEN ONLY businesses in California\n",
    "business_ca_open = business_df[(business_df['state'] == 'CA') & (business_df['is_open'] == 1)]\n",
    "\n",
    "# Display filtered data\n",
    "print(f\"Number of open businesses in California: {business_ca_open.shape[0]}\")\n",
    "print(business_ca_open.head())"
   ]
  },
  {
   "cell_type": "code",
   "execution_count": 2,
   "id": "b07c9de7",
   "metadata": {},
   "outputs": [
    {
     "name": "stdout",
     "output_type": "stream",
     "text": [
      "Number of reviews for open businesses in California: 287807\n",
      "                review_id                 user_id             business_id  \\\n",
      "0  ZKvDG2sBvHVdF5oBNUOpAQ  wSTuiTk-sKNdcFyprzZAjg  B5XSoSG3SfvQGtKEGQ1tSQ   \n",
      "1  9ag-bC-521T1i3IypXr4Ug  sx_cqxyWRUoOIoy_AXmLdQ  B5XSoSG3SfvQGtKEGQ1tSQ   \n",
      "2  80p5xO3dbpd80T6vPTL8DQ  D7ct4p7uUk5t4LFSjVnO4A  B5XSoSG3SfvQGtKEGQ1tSQ   \n",
      "3  RScubg9WIp165432dQfVHQ  r9VkVP_4d2_KMHA9ZN2c6w  B5XSoSG3SfvQGtKEGQ1tSQ   \n",
      "4  _JsMDKDQJ8uc6logHxA0-w  s0l9vVweCwvudj5TNGMl6w  B5XSoSG3SfvQGtKEGQ1tSQ   \n",
      "\n",
      "   stars  useful  funny  cool  \\\n",
      "0      3       1      1     0   \n",
      "1      4       1      0     0   \n",
      "2      5       0      0     0   \n",
      "3      5      14      9    13   \n",
      "4      5       1      0     0   \n",
      "\n",
      "                                                text                date  \\\n",
      "0  This easter instead of going to Lopez Lake we ... 2016-03-30 22:46:33   \n",
      "1  I work with a college group that does camping ... 2013-09-07 21:16:36   \n",
      "2  My SO and I love exploring new trails and so i... 2018-08-05 21:50:27   \n",
      "3  I can't believe there's only one review for th... 2011-07-06 23:14:29   \n",
      "4  I love this area for hiking! I go there all th... 2016-04-03 03:24:46   \n",
      "\n",
      "                         name          categories  \n",
      "0  Los Padres National Forest  Parks, Active Life  \n",
      "1  Los Padres National Forest  Parks, Active Life  \n",
      "2  Los Padres National Forest  Parks, Active Life  \n",
      "3  Los Padres National Forest  Parks, Active Life  \n",
      "4  Los Padres National Forest  Parks, Active Life  \n"
     ]
    }
   ],
   "source": [
    "# Merge Open California Businesses with Reviews using business_id as key\n",
    "\n",
    "# Load review data\n",
    "review_df = pd.read_json('yelp_dataset\\yelp_academic_dataset_review.json', lines=True)\n",
    "\n",
    "# Merge only reviews for open businesses in California\n",
    "review_ca_open = review_df.merge(business_ca_open[['business_id', 'name', 'categories']], on='business_id')\n",
    "\n",
    "# Display filtered reviews\n",
    "print(f\"Number of reviews for open businesses in California: {review_ca_open.shape[0]}\")\n",
    "print(review_ca_open.head())"
   ]
  },
  {
   "cell_type": "code",
   "execution_count": 3,
   "id": "23426d86",
   "metadata": {},
   "outputs": [
    {
     "name": "stdout",
     "output_type": "stream",
     "text": [
      "TF-IDF Matrix Shape: (287807, 5000)\n",
      "Reduced Dimensions Shape: (287807, 50)\n"
     ]
    }
   ],
   "source": [
    "from sklearn.feature_extraction.text import TfidfVectorizer\n",
    "from sklearn.decomposition import PCA\n",
    "\n",
    "# Convert the textual reviews into a numerical representation using TF-IDF (Term Frequency-Inverse Document Frequency)\n",
    "tfidf = TfidfVectorizer(stop_words='english', max_features=5000)  # Limit to 5000 most important terms\n",
    "review_tfidf = tfidf.fit_transform(review_ca_open['text'])\n",
    "\n",
    "print(f\"TF-IDF Matrix Shape: {review_tfidf.shape}\")  # High-dimensional representation\n",
    "\n",
    "# Apply Dimentionality Reduction using Principal Component Analysis (PCA)\n",
    "pca = PCA(n_components=50)  # Reduce to 50 components\n",
    "reduced_reviews = pca.fit_transform(review_tfidf.toarray())\n",
    "\n",
    "print(f\"Reduced Dimensions Shape: {reduced_reviews.shape}\")  # Lower-dimensional representation"
   ]
  },
  {
   "cell_type": "markdown",
   "id": "4cc795cd",
   "metadata": {},
   "source": [
    "# Clustering"
   ]
  },
  {
   "cell_type": "code",
   "execution_count": 22,
   "id": "1ba623a2",
   "metadata": {},
   "outputs": [
    {
     "data": {
      "image/png": "[encoded data removed]",
      "text/plain": [
       "<Figure size 800x600 with 1 Axes>"
      ]
     },
     "metadata": {},
     "output_type": "display_data"
    }
   ],
   "source": [
    "from sklearn.cluster import KMeans\n",
    "import matplotlib.pyplot as plt\n",
    "\n",
    "# Associate reduced review features with businesses\n",
    "business_features = pd.DataFrame(reduced_reviews, columns=[f'PC{i+1}' for i in range(reduced_reviews.shape[1])])\n",
    "business_features['business_id'] = review_ca_open['business_id'].values\n",
    "\n",
    "# Drop duplicates for business ids and keep only first instance\n",
    "business_features = business_features.drop_duplicates(subset='business_id', keep='first')\n",
    "\n",
    "# Determine the best number of clusters using Elbow Method\n",
    "inertia = []\n",
    "k_values = range(2, 30)\n",
    "\n",
    "for k in k_values:\n",
    "    kmeans = KMeans(n_clusters=k, random_state=42)\n",
    "    kmeans.fit(business_features.drop(columns=['business_id']))\n",
    "    inertia.append(kmeans.inertia_)\n",
    "\n",
    "# Plot the Elbow Curve\n",
    "plt.figure(figsize=(8, 6))\n",
    "plt.plot(k_values, inertia, marker='o', linestyle='--')\n",
    "plt.title('Elbow Method for Optimal k')\n",
    "plt.xlabel('Number of Clusters (k)')\n",
    "plt.ylabel('Inertia')\n",
    "plt.grid()\n",
    "plt.show()"
   ]
  },
  {
   "cell_type": "code",
   "execution_count": 23,
   "id": "df6c7f2c",
   "metadata": {},
   "outputs": [
    {
     "name": "stdout",
     "output_type": "stream",
     "text": [
      "              business_id  cluster                             name  \\\n",
      "0  B5XSoSG3SfvQGtKEGQ1tSQ        2       Los Padres National Forest   \n",
      "1  gebiRewfieSdtt17PTW6Zg        2  Hibachi Steak House & Sushi Bar   \n",
      "2  vC2qm1y3Au5czBtbhc-DNw        7                       Sushi Teri   \n",
      "3  bbEXAEFr4RYHLlZ-HFssTA        8  The Original Habit Burger Grill   \n",
      "4  IDtLPgUrqorrpqSLdfMhZQ        3             Helena Avenue Bakery   \n",
      "\n",
      "                                          categories  \n",
      "0                                 Parks, Active Life  \n",
      "1     Steakhouses, Sushi Bars, Restaurants, Japanese  \n",
      "2                            Restaurants, Sushi Bars  \n",
      "3                    Fast Food, Burgers, Restaurants  \n",
      "4  Food, Restaurants, Salad, Coffee & Tea, Breakf...  \n"
     ]
    }
   ],
   "source": [
    "# Apply K-Means with the chosen number of clusters based on the Elbow Curve\n",
    "optimal_k = 10\n",
    "kmeans = KMeans(n_clusters=optimal_k, random_state=42)\n",
    "business_features['cluster'] = kmeans.fit_predict(business_features.drop(columns=['business_id']))\n",
    "\n",
    "# Merge cluster labels back to business data\n",
    "business_clusters = business_features[['business_id', 'cluster']].merge(\n",
    "    business_ca_open[['business_id', 'name', 'categories']], on='business_id'\n",
    ")\n",
    "\n",
    "# Display sample results\n",
    "print(business_clusters.head())"
   ]
  },
  {
   "cell_type": "markdown",
   "id": "fdf261c0",
   "metadata": {},
   "source": [
    "# Output"
   ]
  },
  {
   "cell_type": "code",
   "execution_count": 24,
   "id": "3e633433",
   "metadata": {},
   "outputs": [],
   "source": [
    "# Merge user reviews with clusters to determine user interactions\n",
    "user_cluster_data = review_ca_open.merge(\n",
    "    business_clusters[['business_id', 'cluster']], on='business_id'\n",
    ")\n",
    "\n",
    "# Assign users to their most-interacted cluster\n",
    "user_cluster_pref = user_cluster_data.groupby(['user_id', 'cluster']).size().reset_index(name='review_count')\n",
    "\n",
    "# Find the cluster with the highest review count for each user\n",
    "user_pref_cluster = user_cluster_pref.loc[\n",
    "    user_cluster_pref.groupby('user_id')['review_count'].idxmax()\n",
    "].rename(columns={'cluster': 'preferred_cluster'})\n",
    "\n",
    "# Recommend businesses from the preferred cluster\n",
    "def recommend_businesses(user_id, num_recommendations=5):\n",
    "    # Check if the user exists in the preference data\n",
    "    if user_id not in user_pref_cluster['user_id'].values:\n",
    "        return f\"User {user_id} has no interactions recorded.\"\n",
    "\n",
    "    # Get the user's preferred cluster\n",
    "    preferred_cluster = user_pref_cluster[user_pref_cluster['user_id'] == user_id]['preferred_cluster'].values[0]\n",
    "    \n",
    "    # Get all businesses in this cluster\n",
    "    cluster_businesses = business_clusters[business_clusters['cluster'] == preferred_cluster]\n",
    "    \n",
    "    # Exclude businesses the user has already reviewed\n",
    "    reviewed_businesses = user_cluster_data[user_cluster_data['user_id'] == user_id]['business_id'].unique()\n",
    "    recommendations = cluster_businesses[~cluster_businesses['business_id'].isin(reviewed_businesses)]\n",
    "    \n",
    "    # Select top businesses for recommendation (or fewer if less available)\n",
    "    return recommendations[['name', 'categories']].sample(n=min(num_recommendations, len(recommendations)))"
   ]
  },
  {
   "cell_type": "code",
   "execution_count": 25,
   "id": "8c3e73ec",
   "metadata": {},
   "outputs": [
    {
     "name": "stdout",
     "output_type": "stream",
     "text": [
      "Recommendations for User wSTuiTk-sKNdcFyprzZAjg:\n",
      "                                  name  \\\n",
      "1     Hibachi Steak House & Sushi Bar   \n",
      "1651           Montecito Union School   \n",
      "736         Che Argentinian Empanadas   \n",
      "454          Yogurtland Santa Barbara   \n",
      "1612                          Outpost   \n",
      "\n",
      "                                             categories  \n",
      "1        Steakhouses, Sushi Bars, Restaurants, Japanese  \n",
      "1651  Elementary Schools, Middle Schools & High Scho...  \n",
      "736   Latin American, Restaurants, Argentine, Empana...  \n",
      "454                     Ice Cream & Frozen Yogurt, Food  \n",
      "1612  Restaurants, American (New), Bars, Nightlife, ...  \n"
     ]
    }
   ],
   "source": [
    "# Example: Generate recommendations for a user\n",
    "user_id_example = user_cluster_data['user_id'].iloc[0]  # recommend for the first user in the dataset\n",
    "recommendations = recommend_businesses(user_id_example, num_recommendations=5)\n",
    "print(f\"Recommendations for User {user_id_example}:\\n\", recommendations)"
   ]
  },
  {
   "cell_type": "code",
   "execution_count": 26,
   "id": "ae2e7b90",
   "metadata": {},
   "outputs": [
    {
     "name": "stdout",
     "output_type": "stream",
     "text": [
      "  antecedents consequents   support  confidence      lift\n",
      "6      (9, 2)         (8)  0.031568    0.431834  2.138368\n",
      "7         (8)      (9, 2)  0.031568    0.156318  2.138368\n",
      "8         (9)      (8, 2)  0.031568    0.164223  1.835489\n",
      "5      (8, 2)         (9)  0.031568    0.352827  1.835489\n",
      "4      (8, 9)         (2)  0.031568    0.773645  1.392791\n"
     ]
    },
    {
     "name": "stderr",
     "output_type": "stream",
     "text": [
      "C:\\Users\\dodda\\anaconda3\\Lib\\site-packages\\mlxtend\\frequent_patterns\\fpcommon.py:161: DeprecationWarning: DataFrames with non-bool types result in worse computationalperformance and their support might be discontinued in the future.Please use a DataFrame with bool type\n",
      "  warnings.warn(\n"
     ]
    }
   ],
   "source": [
    "#Find insights for users and business owners using Association Rules\n",
    "from mlxtend.frequent_patterns import apriori, association_rules\n",
    "\n",
    "# Prepare data for Apriori (one-hot encoding)\n",
    "user_cluster_matrix = user_cluster_data.pivot_table(\n",
    "    index='user_id', columns='cluster', aggfunc='size', fill_value=0\n",
    ")\n",
    "user_cluster_matrix = user_cluster_matrix.applymap(lambda x: 1 if x > 0 else 0)\n",
    "\n",
    "# Apply Apriori algorithm to find frequent itemsets\n",
    "frequent_itemsets = apriori(user_cluster_matrix, min_support=0.03, use_colnames=True)\n",
    "\n",
    "# Generate association rules\n",
    "rules = association_rules(frequent_itemsets, user_cluster_matrix, metric=\"lift\", min_threshold=1.0)\n",
    "\n",
    "# Sort rules by lift and display\n",
    "rules_sorted = rules.sort_values(by=\"lift\", ascending=False)\n",
    "print(rules_sorted[['antecedents', 'consequents', 'support', 'confidence', 'lift']].head())"
   ]
  },
  {
   "cell_type": "code",
   "execution_count": 19,
   "id": "e41b06bc",
   "metadata": {},
   "outputs": [],
   "source": [
    "# Insights Interpretation\n",
    "# About 3.15% of all users in the our filtered dataset reviewed businesses in clusters {9, 2} and {8}\n",
    "# 43.1% of users who reviewed businesses in clusters {9, 2} also reviewed businesses in {8}\n",
    "# Users reviewing {9, 2} are 2.13 times more likely to review {8} compared to random chance."
   ]
  }
 ],
 "metadata": {
  "kernelspec": {
   "display_name": "Python 3 (ipykernel)",
   "language": "python",
   "name": "python3"
  },
  "language_info": {
   "codemirror_mode": {
    "name": "ipython",
    "version": 3
   },
   "file_extension": ".py",
   "mimetype": "text/x-python",
   "name": "python",
   "nbconvert_exporter": "python",
   "pygments_lexer": "ipython3",
   "version": "3.11.5"
  }
 },
 "nbformat": 4,
 "nbformat_minor": 5
}
